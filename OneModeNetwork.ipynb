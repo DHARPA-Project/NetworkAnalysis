{
 "cells": [
  {
   "cell_type": "markdown",
   "metadata": {},
   "source": [
    "# One-mode graph with directed and weighted edges\n",
    "This is a basic workflow to analyse a one-mode network with python.\n",
    "\n",
    "Inspirations for network analysis in python can be found in the documetation for various libraries and packages.\n",
    "\n",
    "More step-by step descriptions and tutorials can be found here: https://programminghistorian.org/en/lessons/exploring-and-analyzing-network-data-with-python."
   ]
  },
  {
   "cell_type": "markdown",
   "metadata": {},
   "source": [
    "## The dataset in the context of the research project\n",
    "\n",
    "My data comprises information about foreign journal reviews in psychiatry journals\n",
    "from Europe, the United States, Japan and Russia between 1900 and 1916. I am interested\n",
    "in pre WWI psychiatry networks and their publication mediums. For the one-mode network\n",
    "analysis module I will only use the sample of journal reviews made in the year\n",
    "1902 because it is the most complete data-set and because it marks the year in which\n",
    "the first journal of psychiatry was published in Japan. \n",
    "\n",
    "Representing this data as a network was part of a broader research question about the transformation and transmission of psychiatric knowledge in the early 20th century and more specifically at the time of the Russo-Japanese war (1904-5).\n",
    "In this context, network analysis and visualisation served as a complimentary approach alongside more traditional forms of historical research and the results obtained from the digital methods served various purposes. \n",
    "\n",
    "On the most basic level, network analysis and visualisation allowed me to get a new perspective on my sources. Ideas on psychiatric knowledge circulated in a variety of scientific journals from very different disciplines and the process of institutionalization of the discipline of psychiatry was not at the same stage in all the countries under consideration. Launching specialized journals can be considered a part of the institutionalization process and this step was taken somewhat later in Russia and Japan when compared to countries such as Germany and France. Investigating the relational properties of Russian and Japanese journals within the larger network of international psychiatric journals was one of the purposes of casting the data as a network.\n",
    "\n",
    "It also allowed me to use the network in an exploratory way. By browsing the journal titles by country of publication, by language, or by journal type etc … I was able to obtain a good overview of the pre-WWI publication landscape. As mentioned above, the historical network does not only contain journals purely devoted to psychiatry. Psychiatrists used to publish their work in general medicine journals (like The Lancet), in journals\n",
    "specializing in pathology (like Virchow’s Archiv), in anthropology, psychology (like the\n",
    "Annales médico psychologiques), or philosophy. The network reveals psychiatry’s tight\n",
    "bonds with neurology and pathology at the time, but it also foreshadows the emerging\n",
    "influence of psychology on the field. This historical constellation slightly differs from psychiatry's present-day position among other fields of knowledge. The network as a whole thus serves to cast light on the historical development of the discipline and to understand psychiatric knowledge production in the context of this historical constellation.\n",
    "\n",
    "Another, more specific purpose, was to use the network as a finding aid in order to limit the reading load. The publication landscape in 20th century psychiatry is vast but not all journals were equally important to Japanese and Russian psychiatrists who had their particular reading preferences and affiliations but also followed the popular journals of the time. In this sense, network analysis helped me to identify journals in\n",
    "the network that are reviewed more often than others which might be a sign of high\n",
    "authority within the community. Similarly, it also helped to identify journals\n",
    "that served as intermediaries to bridge language barriers. \n"
   ]
  },
  {
   "cell_type": "markdown",
   "metadata": {},
   "source": [
    "## Data content, structure & graph types\n",
    "\n",
    "My data is stored in two different databases. One of them is a relational database (Access), the other one is a graph database (neo4j). Apart from the journals and journal reviews the dataset also\n",
    "contains information on article authors, journal editors, article reviewers and places\n",
    "of publication. In Access, this data is stored in separate linked tables. Records of people, places and\n",
    "journals are kept apart in different tables but are connected through identifiers. The graph database has a different structure by design, but contains the same information in a different model (for example: a graph database can be created without redundant null values).\n",
    "Access allows to export the data as **CSV** files, and in neo4j it can be exported as **JSON**.\n",
    "\n",
    "However, if the data does not come from a database and does not have the required structure it will need to be put into shape first."
   ]
  },
  {
   "cell_type": "code",
   "execution_count": null,
   "metadata": {},
   "outputs": [],
   "source": [
    "# data wrangling for getting data into the appropriate structure; extracting nodes and edges."
   ]
  },
  {
   "cell_type": "markdown",
   "metadata": {},
   "source": [
    "Even before I created the databases, I had made several decisions to collect certain types of information. Since \"knowledge transmission\" was a key element in my research, I had anticipated to create a **directed network** that could represent knowledge flows. As follows from the research interest described above, I was also interested in the \"intensity of the connections\" between journals which implies a **weighted network**. Several different network types are appropriate for exploration purposes. I have used the data to create a **multi-mode network** and a **one-mode network** to explore and analyse the data in different ways. This workflow will focus on the the one-mode network type with journals as nodes. A one-mode graph is a more abstract representation of the data and is therefore generally better suited for statistical analysis. Especially the questions related to a journal's **influence** or **importance** can be well represented through different types of node centrality in a one-mode graph. This does not exclude other graph types, but limiting the network to journals-only (as opposed to multiple node types:  journals, reviewers, places, review sections etc.) can help to highlight the position of individual journals within the whole network of journals.\n",
    "\n",
    "If the user doesn't have a clear understanding of how their research question can be phrased (or \"translates\") in terms of network analysis, or does not have a clear definition of what the relationships are that they wish to study, then the choice between different graph types will be difficult to make. Taking a data-centric approach, one could make this choice partly dependent on the data itself (if the relationships don't have directionality, you could never create a directed graph). However, there can be no straghtforward solution to help with this decision process if someone doesn't know what they want to do, as different approaches or a combination of them might be potentially useful. A user could be more interested in data exploration or in statistical analysis, they could be looking for patterns in flow or in structure, but these directions are not mutually exclusive and when research is understood as experimental and open-ended, then there can't be a strict guideline on how it should be done."
   ]
  },
  {
   "cell_type": "code",
   "execution_count": null,
   "metadata": {},
   "outputs": [],
   "source": [
    "# choosing one or several graph types, data sanity check"
   ]
  },
  {
   "cell_type": "markdown",
   "metadata": {},
   "source": [
    "## Data import with structured network data"
   ]
  },
  {
   "cell_type": "markdown",
   "metadata": {},
   "source": [
    "For all network analysis software the data needs to be in a certain structure. \n",
    "If the data comes from a database, the first step usually implies querying the database and creating appropriate data files. This could also be a preprocessing step in the DHARPA software. Accessing a relational database or using an API (MySQL, neo4j, PubMed, Twitter ...) from within the software would require specialised plug-ins. "
   ]
  },
  {
   "cell_type": "code",
   "execution_count": null,
   "metadata": {},
   "outputs": [],
   "source": [
    "# import network data from relational database or using an API"
   ]
  },
  {
   "cell_type": "markdown",
   "metadata": {},
   "source": [
    "One very common approach that is compatible with most network analysis software (Gephi, nodegoat, etc.) is to create a list of nodes (also called vertices) and a list of edges (also called tiles or ties). \n",
    "In the network graph the nodes are usually represented as circles and the edges as lines connecting the\n",
    "circles. Typically, these are two different CSV files. The edge list contains the relations\n",
    "and the node list is a complete list of unique “objects” among which the relations exist.\n",
    "In my project, the node list is a list of journal titles and their characteristics (or node\n",
    "attributes); the edge list is a file consisting of tuples usually called “source” and “target”\n",
    "(of two connected objects), indicating that one journal was reviewed by the other. In\n",
    "my project there is also a third column in the edge list called “weight”. It represents\n",
    "the sum of connections of the same kind (for example: journal A reviewing journal\n",
    "B 6 times). There can also be additional columns with other edge attributes. Those\n",
    "could denote different types of relations or specify the relations by other properties (time or location), for example there could be a subdivision in positive and negative reviews. My full dataset contains different types of inter-journal relations like: “reviewed”, “translated”, and “mentioned in bibliography”.\n",
    "If the data comes in CSV format it should be possible to import it directly in this format."
   ]
  },
  {
   "cell_type": "code",
   "execution_count": null,
   "metadata": {},
   "outputs": [],
   "source": [
    "# import network data from CSV files, show as data in table form, allow filtering and editing, map data & generate graph using one or several graph types"
   ]
  },
  {
   "cell_type": "markdown",
   "metadata": {},
   "source": [
    "## Order of steps\n",
    "Up to this point, the notebook could be read and executed in an almost linear fashion (1. import data, 2. map data, 3. generate graph). However, even in the sections described above, there are elements that indicate an iterative process. Users might want to cast different graph types of their data and redo the above steps with various filtering and selection options. The steps described below are even less suitable for a linear workflow execution and are therefore deliberately not numbered. There is no general reason or logic that would prompt a user to calculate centralities before calculating communities or to chose a visualization type after having calculated centralities etc. "
   ]
  },
  {
   "cell_type": "markdown",
   "metadata": {},
   "source": [
    "## Examining graph properties and filtering\n",
    "\n",
    "After the graph has been created it is useful to get some kind of overview and to see a\n",
    "visualization of the graph. Calculating the graph density and the diameter gives some\n",
    "basic information about the size and topology of the graph. However, it is not always\n",
    "easy to interpret these numbers. After seeing the graph, the user might want to focus\n",
    "on particular parts of it or to exclude some nodes from the examination. Typically one\n",
    "might want to get rid of nodes that are not connected to any other nodes (isolates).\n",
    "Another common operation is to get rid of self-loops, i.e nodes that have an edge going\n",
    "back to themselves. It should also be possible to filter out nodes by their number of\n",
    "connections (for example: getting rid of nodes with less than two connections). Some\n",
    "graphs will consist of more than one connected component (several bundles or knots of\n",
    "nodes that are not connected to other bundles). I would usually calculate the number\n",
    "of graph components and sort them by size. It should be possible to identify the largest\n",
    "component in the graph and to filter out all the others. All of these filtering operations\n",
    "should be reversible.\n",
    "If the node list contains relevant node attributes it might be helpful at this point to\n",
    "visualize these in the graph (by assigning different colors to different attributes). This\n",
    "operation can help users for narrow down their focus and decide on filtering."
   ]
  },
  {
   "cell_type": "code",
   "execution_count": null,
   "metadata": {},
   "outputs": [],
   "source": [
    "# graph properties, graph specific filtering options ..."
   ]
  },
  {
   "cell_type": "markdown",
   "metadata": {},
   "source": [
    "## Calculating centralities\n",
    "\n",
    "One of the most common operations in network analysis is to identify important nodes.\n",
    "What makes a node important depends on your network and your notion of importance.\n",
    "An important node might be a node that has the most connections. A node\n",
    "with one connection has a degree of one and degree centrality is a way for calculating a normalized value for this measure. \n",
    "Another kind of “importance” is betweenness-centrality. It indicates a node\n",
    "that lies between two distinct parts of a network (A node through which most \"shortest paths\" pass through). A node with high betweenness centrality\n",
    "can indicate that the node is a “broker” or a “gatekeeper”. \n",
    "\n",
    "Here are some (but not all!) of the more popular centrality measures:\n",
    "\n",
    "**Closeness centrality** is measuring how close a node is located with respect to every other node in the network.\n",
    "\n",
    "**Degree centrality** is a measure to identify the nodes which have the most connections in the network, they are often interpreted as **hubs**.\n",
    "\n",
    "**Betweenness centrality** looks at all the shortest paths that pass through a particular node. It is expressed on a scale of 0 to 1 and is good at finding nodes that connect two otherwise disparate parts of a network. \n",
    "In contrast to a **hub**, this sort of node is often referred to as a **broker** because the value can be interpreted as indicating a node with an active brokering role in the network.\n",
    "\n",
    "**Eigenvector centrality** considers if a node has many direct connections on its own, but it also considers how it is connected to other highly connected nodes. It’s calculated as a value from 0 to 1: the closer to one, the greater the centrality. In information networks, eigenvector centrality is useful for understanding which nodes can get information to many other nodes quickly. If you know a lot of well-connected people, you could spread a message very efficiently.\n",
    "\n",
    "It is important to note that all these different labels (hubs, brokers) constitute **interpretations** of the obtained numbers and generate assumptions about the roles of individual actors in a network.\n",
    "Edge **weights** can significantly alter some of these centrality measures and yield very different rankings in terms of centrality. Because weights are interpreted as the \"connection strength\" in some measures and as \"distance\" (or cost) in other measures, it is important to adjust calculations according to the type of network. For example, this can imply that it might be appropriate to invert the egde weights when calculating weighted betweenness centrality in an information network. "
   ]
  },
  {
   "cell_type": "code",
   "execution_count": null,
   "metadata": {},
   "outputs": [],
   "source": [
    "# calculate centralities, allow to re-calculate centralities, use centrality measures for the size of nodes .."
   ]
  },
  {
   "cell_type": "code",
   "execution_count": null,
   "metadata": {},
   "outputs": [],
   "source": [
    "# offer a solution for weighted networks and provide adjusted calculations"
   ]
  },
  {
   "cell_type": "markdown",
   "metadata": {},
   "source": [
    "## Community detection\n",
    "\n",
    "Community detection is a popular operation in network analysis, especially with social\n",
    "networks like social media groups, but it also has its uses with text networks.\n",
    "This method idetifies groups of nodes that belong together based on one or several properties of the graph.\n",
    "By partitioning the graph into distinct communities, it is possible to detect node characteristics that are otherwise not recorded (as node attributes) or not easily discernible.\n",
    "If nothing else, this method can help to raise new questions about the network and initiate a search for the unknown common denominators among the nodes that were placed in the same community according to the partition of the community detection algorithm.\n",
    "\n",
    "There are fewer algorithms to detect communities in **directed networks**. Depending on the data and research question, it can be very misleading to use community detection algorithms on directed graphs that have been originally developed for undirected graphs (\"It is clear that ignoring edge directionality and considering the graph as undirected is not a meaningful\n",
    "way to cluster directed networks as it fails to capture the asymmetric relationships implied by the edges\n",
    "of a directed network.\" (Malliaros & Vazirgiannis, 2013)).\n",
    "It is also possible to search for **overlapping communities** where nodes belong to more than one group. There are specialized algorithms for those cases.\n",
    "\n",
    "With my data, I used igraph’s “community infomap” algorithm but didn't get any useful and insightful results. \n",
    "Useful results would provide a partition of the graph into smaller sections (communities) that would allow to study the network in smaller units. The statistically inferred partition might help users identify meaningful divisions within their data. With text networks these partitions can indicate a close relationship between a group of words in a text corpus. With people networks, these partions can help to uncover (yet unknown) common attributes among groups of people. It is up to the user to provide a useful interpretation for the communities detected with the help of the algorithm. The algorithm is only useful if the user can make sense of the communites and find the common denominators between the nodes in a community.\n",
    "\n",
    "The igraph package offers more different algorithms for community detection for specific cases\n",
    "then the networkX package. Yet other packages might have other advantages. Cdlib is a python package that offers a collection of community detection algorithms: https://cdlib.readthedocs.io/en/latest/overview.html It has a good documentation and conveniently differentiates the algorithms according to graph type and other criteria."
   ]
  },
  {
   "cell_type": "code",
   "execution_count": null,
   "metadata": {},
   "outputs": [],
   "source": [
    "# community detection algorithms approriate for the graph type"
   ]
  },
  {
   "cell_type": "markdown",
   "metadata": {},
   "source": [
    "## Explore and visualize hierarchies (optional)\n",
    "\n",
    "In my particular project, I was especially interested in investigating the development\n",
    "of the discipline of psychiatry. This entails the professionalization of the field which\n",
    "can be seen through certain indicators such as: the number of university positions, the\n",
    "number of students, specialized university tracks (not merely being part of the general\n",
    "medicine education), specialized journals, specialized conferences etc. At the end of\n",
    "the 19th century psychiatry grows in independence (from general medicine and from\n",
    "neurology and pathology), but this process does not proceed at the same pace in all the\n",
    "countries I examine. In order to investigate this phenomenon, I look at the hierarchies\n",
    "in my journal network, examining not only the reviews as such, but also into which\n",
    "categories they belong (general medicine, sociology, philosophy, psychology ect.)\n",
    "\n",
    "At the moment I’m doing this in R (with ggraph and tidygraph) and I have not found\n",
    "a solution yet to translate the process into python. The process involves restructuring\n",
    "the data-set, thereby creating three input lists: nodes, edges, and connections. In\n",
    "this case the nodes contain both journal titles and journal categories and the edges\n",
    "represent the hierarchies. The list of connections in this case is the original edge list\n",
    "of journal reviews. In general, I found the visualization options in R packages more\n",
    "versatile than those currently available in python. However, since visualization will be\n",
    "handled by other people in the project (i.e. Mariella) and will presumably be done in\n",
    "D3.js anyway, it is not a major issue for me."
   ]
  },
  {
   "cell_type": "code",
   "execution_count": null,
   "metadata": {},
   "outputs": [],
   "source": [
    "# hierarchical edge bundling visualisation, allow to edit data table to group data into hierarchies, other viz types to explore hierarchies ..."
   ]
  },
  {
   "cell_type": "markdown",
   "metadata": {},
   "source": [
    "## Visualizations\n",
    "\n",
    "Apart from the visualizations already mentioned, I would find it helpful if other forms\n",
    "of visualizing the network (and network properties) then the usual network graph\n",
    "would be provided in this module. Sometimes, an arc diagram, or a chord diagram is\n",
    "more useful to show connections and to display the node labels in an accessible way.\n",
    "For investigating certain properties and distributions in the dataset a simple bar-chart\n",
    "can be more insightful than browsing through the network graph and switching node\n",
    "colors by attribute to see patterns. Eventually, I would also like to show certain developments\n",
    "over time. However, I find animated network graphs that show network\n",
    "development over time more irritating than revealing. Maybe we can find better visualization\n",
    "solutions for these problems as well (for example representing steps in an\n",
    "alluvial diagram)."
   ]
  },
  {
   "cell_type": "code",
   "execution_count": null,
   "metadata": {},
   "outputs": [],
   "source": [
    "# arc diagram, matrix ect. other viz types"
   ]
  }
 ],
 "metadata": {
  "kernelspec": {
   "display_name": "Python 3",
   "language": "python",
   "name": "python3"
  },
  "language_info": {
   "codemirror_mode": {
    "name": "ipython",
    "version": 3
   },
   "file_extension": ".py",
   "mimetype": "text/x-python",
   "name": "python",
   "nbconvert_exporter": "python",
   "pygments_lexer": "ipython3",
   "version": "3.8.5"
  }
 },
 "nbformat": 4,
 "nbformat_minor": 4
}
